{
 "cells": [
  {
   "cell_type": "code",
   "execution_count": 155,
   "id": "903e950f-c04d-46ec-9f11-79fadcfcc795",
   "metadata": {
    "tags": []
   },
   "outputs": [],
   "source": [
    "import numpy as np\n",
    "\n",
    "def import_data(path):\n",
    "    data = []\n",
    "    class_label = []\n",
    "    with open(path) as f:\n",
    "        for l in f:\n",
    "            x1, x2, y = l.strip().split(\" \")\n",
    "            # x1 = float(x1)\n",
    "            # x2 = float(x2)\n",
    "            # y = int(y)\n",
    "            data.append([x1, x2, y])\n",
    "    data = np.array(data)\n",
    "    features = (\"x0\", \"x1\", \"y\")\n",
    "    return data, features\n",
    "\n",
    "def calculate_entropy(data, ind):\n",
    "    entropy = 0\n",
    "    data_feature = data[:,ind]\n",
    "    instance_set = set(data_feature)\n",
    "    \n",
    "    for instance in instance_set:\n",
    "        p = np.sum(data_feature == instance)/len(data_feature)\n",
    "        entropy += p * np.log(p)\n",
    "    entropy = - entropy / np.log(2)\n",
    "    return entropy\n",
    "        \n",
    "def determine_candidate_numeric_split(data, ind):\n",
    "    c = []\n",
    "    data_copy = data[:,ind].astype(float)\n",
    "    sorted_data = data[data_copy.argsort()]\n",
    "    #print(sorted_data[:,1])\n",
    "    #print(sorted_data[:,-1])\n",
    "    for i in range(len(sorted_data) - 1):\n",
    "        if (sorted_data[i+1, -1] != sorted_data[i, -1]):\n",
    "            c.append(sorted_data[i+1, ind])\n",
    "    return c\n",
    "    \n",
    "def split_data_set(data, ind, value):\n",
    "    \"\"\"\n",
    "    set 1 is >=\n",
    "    set 2 is <\n",
    "    \"\"\"\n",
    "    set2 = data[np.where(data[:,ind] < value)]\n",
    "    set1 = data[np.where(data[:,ind] >= value)]\n",
    "    return set1, set2\n",
    "            \n",
    "    \n",
    "def find_best_split(data):\n",
    "    n_features = len(data[0]) - 1\n",
    "    n_data = len(data)\n",
    "    data_entropy = calculate_entropy(data, -1)\n",
    "    \n",
    "    best_info_gain_ratio = 0\n",
    "    best_feature_ind = None\n",
    "    threshold_candidate = None\n",
    "    for i in range(n_features):\n",
    "        candidates = determine_candidate_numeric_split(data, i)\n",
    "        for candidate in candidates:\n",
    "            sub_set_1, sub_set_2 = split_data_set(data, i, candidate)\n",
    "            p1 = float(len(sub_set_1))/n_data\n",
    "            p2 = float(len(sub_set_2))/n_data\n",
    "            \n",
    "            conditional_entropy = p1*calculate_entropy(sub_set_1, -1) + \\\n",
    "                                    p2*calculate_entropy(sub_set_2, -1)\n",
    "            if (len(sub_set_1) == 0 or len(sub_set_2) == 0):\n",
    "                entropy = 0\n",
    "            else:\n",
    "                entropy = -p1*np.log(p1) - p2*np.log(p2)\n",
    "            entropy = entropy / np.log(2)\n",
    "            if (entropy == 0):\n",
    "                continue\n",
    "            info_gain = data_entropy - conditional_entropy\n",
    "            info_gain_ratio = info_gain/entropy\n",
    "            if (info_gain_ratio > best_info_gain_ratio):\n",
    "                best_info_gain_ratio = info_gain_ratio\n",
    "                best_feature_ind = i\n",
    "                threshold_candidate = candidate\n",
    "    return best_feature_ind, threshold_candidate\n",
    "    \n",
    "def determine_majority_class_label(class_labels):\n",
    "    count_0 = np.count_nonzero(class_labels == '0')\n",
    "    count_1 = np.count_nonzero(class_labels == '1')\n",
    "    majority = None\n",
    "    if (count_0 > count_1):\n",
    "        majority = '0'\n",
    "    else:\n",
    "        majority = '1'\n",
    "    return majority\n",
    "\n",
    "def create_tree(data, features):\n",
    "    if (len(data) == 0):\n",
    "        return '1' #  no majority class\n",
    "    \n",
    "    best_feature_ind, threshold = find_best_split(data)\n",
    "    if (best_feature_ind == None):\n",
    "        class_labels = data[:,-1]\n",
    "        majority = determine_majority_class_label(class_labels)\n",
    "        return majority\n",
    "    subtree = {features[best_feature_ind] : {}}\n",
    "    set1, set2 = split_data_set(data, best_feature_ind, threshold)\n",
    "    subtree[features[best_feature_ind]]['>= '+threshold] = create_tree(set1, features)\n",
    "    subtree[features[best_feature_ind]]['< '+threshold] = create_tree(set2, features)\n",
    "    return subtree\n",
    "\n",
    "data, features = import_data('./D3leaves.txt')\n",
    "tree = create_tree(data, features)"
   ]
  },
  {
   "cell_type": "code",
   "execution_count": 151,
   "id": "fbb778a4-ca10-418e-af5e-2b0d9b92732c",
   "metadata": {
    "tags": []
   },
   "outputs": [],
   "source": [
    "m, l = import_data(\"./D1.txt\")\n",
    "#determine_candidate_numeric_split(m, 1)\n",
    "s1, s2 = find_best_split(m)"
   ]
  },
  {
   "cell_type": "code",
   "execution_count": 156,
   "id": "e898e5c2-65a5-4b0e-9775-9d72be0db03c",
   "metadata": {
    "tags": []
   },
   "outputs": [
    {
     "data": {
      "text/plain": [
       "{'x1': {'>= 2': '1', '< 2': {'x0': {'>= 10': '1', '< 10': '0'}}}}"
      ]
     },
     "execution_count": 156,
     "metadata": {},
     "output_type": "execute_result"
    }
   ],
   "source": [
    "import pydot\n"
   ]
  },
  {
   "cell_type": "code",
   "execution_count": 136,
   "id": "a413511e-ddff-4ca2-a97e-e6a53cb05b7d",
   "metadata": {
    "tags": []
   },
   "outputs": [
    {
     "name": "stdout",
     "output_type": "stream",
     "text": [
      "0 0.4\n"
     ]
    }
   ],
   "source": [
    "m, l = import_data(\"./test.txt\")\n",
    "#m, l = import_data(\"./D1.txt\")\n",
    "s1, s2 = find_best_split(m)\n",
    "print(s1, s2)"
   ]
  },
  {
   "cell_type": "code",
   "execution_count": 137,
   "id": "ec8cb063-8f75-4516-9f3c-10c163fa529d",
   "metadata": {
    "tags": []
   },
   "outputs": [
    {
     "data": {
      "text/plain": [
       "(array([['0.4', '0.5', '1'],\n",
       "        ['0.1', '0.7', '0'],\n",
       "        ['0.3', '0.3', '0'],\n",
       "        ['0.3', '0.4', '0']], dtype='<U3'),\n",
       " array([], shape=(0, 3), dtype='<U3'))"
      ]
     },
     "execution_count": 137,
     "metadata": {},
     "output_type": "execute_result"
    }
   ],
   "source": [
    "m, l = import_data(\"./D1.txt\")\n",
    "m, l = import_data(\"./test.txt\")\n",
    "split_data_set(m, 0, '0.1')\n",
    "#determine_candidate_numeric_split(m, 1)"
   ]
  },
  {
   "cell_type": "code",
   "execution_count": 138,
   "id": "dad9d05a-ec5e-4290-9bd8-5fb159be8ab3",
   "metadata": {},
   "outputs": [
    {
     "data": {
      "text/plain": [
       "3"
      ]
     },
     "execution_count": 138,
     "metadata": {},
     "output_type": "execute_result"
    }
   ],
   "source": [
    "np.count_nonzero(m[:,2] == '0')"
   ]
  },
  {
   "cell_type": "code",
   "execution_count": 145,
   "id": "b6b86412-0624-4cd7-abb1-1ae71d3aa3a0",
   "metadata": {
    "tags": []
   },
   "outputs": [
    {
     "name": "stderr",
     "output_type": "stream",
     "text": [
      "/tmp/ipykernel_10850/2933082444.py:1: RuntimeWarning: divide by zero encountered in log\n",
      "  np.log(0)\n"
     ]
    },
    {
     "data": {
      "text/plain": [
       "-inf"
      ]
     },
     "execution_count": 145,
     "metadata": {},
     "output_type": "execute_result"
    }
   ],
   "source": [
    "np.log(0)"
   ]
  },
  {
   "cell_type": "code",
   "execution_count": 147,
   "id": "13af8e9a-80b3-4792-98c1-42894bbbdaab",
   "metadata": {
    "tags": []
   },
   "outputs": [
    {
     "data": {
      "text/plain": [
       "{'divide': 'warn', 'over': 'warn', 'under': 'ignore', 'invalid': 'warn'}"
      ]
     },
     "execution_count": 147,
     "metadata": {},
     "output_type": "execute_result"
    }
   ],
   "source": [
    "np.seterr(all='raise')"
   ]
  },
  {
   "cell_type": "code",
   "execution_count": null,
   "id": "4c3f452d-7989-4e8e-85a5-3a3fc0287ef8",
   "metadata": {},
   "outputs": [],
   "source": []
  }
 ],
 "metadata": {
  "kernelspec": {
   "display_name": "Python 3 (ipykernel)",
   "language": "python",
   "name": "python3"
  },
  "language_info": {
   "codemirror_mode": {
    "name": "ipython",
    "version": 3
   },
   "file_extension": ".py",
   "mimetype": "text/x-python",
   "name": "python",
   "nbconvert_exporter": "python",
   "pygments_lexer": "ipython3",
   "version": "3.11.4"
  }
 },
 "nbformat": 4,
 "nbformat_minor": 5
}
