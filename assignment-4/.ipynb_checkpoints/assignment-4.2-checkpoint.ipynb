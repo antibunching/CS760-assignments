{
 "cells": [
  {
   "cell_type": "code",
   "execution_count": 2,
   "id": "49a232f4-336d-4a7e-ac03-abadc359fcc7",
   "metadata": {
    "tags": []
   },
   "outputs": [],
   "source": [
    "import numpy as np\n",
    "import matplotlib.pyplot as plt\n",
    "\n"
   ]
  },
  {
   "cell_type": "code",
   "execution_count": 59,
   "id": "64e65f63-7eda-446b-aa1a-d36f6e7471ec",
   "metadata": {
    "tags": []
   },
   "outputs": [
    {
     "name": "stdout",
     "output_type": "stream",
     "text": [
      "The prior for English : 0.33\n",
      "The prior for Japanese : 0.33\n",
      "The prior for Spanish : 0.33\n"
     ]
    }
   ],
   "source": [
    "import os\n",
    "import numpy as np\n",
    "from collections import Counter\n",
    "\n",
    "# Q3.1\n",
    "characters = ['a', 'b', 'c', 'd', 'e', 'f', 'g', 'h', 'i', 'j', 'k', 'l', 'm',\n",
    "              'n', 'o', 'p', 'q', 'r', 's', 't', 'u', 'v', 'w', 'x', 'y', 'z', ' ']\n",
    "n_lang_class = 3\n",
    "alpha = 1/2\n",
    "\n",
    "filenames = os.listdir('languageID')\n",
    "\n",
    "x_train_data = []\n",
    "y_train_data = []\n",
    "x_test_data = []\n",
    "y_test_data = []\n",
    "for filename in filenames:\n",
    "    with open(os.path.join('languageID', filename), 'r') as f:\n",
    "        text = f.read().lower()\n",
    "        \n",
    "        #use the number 0-9 file as training data \n",
    "        if(len(filename) == 6):\n",
    "            x_train_data.append(text)\n",
    "            y_train_data.append(filename[0])\n",
    "                \n",
    "        else:\n",
    "            x_test_data.append(text)\n",
    "            y_test_data.append(filename[0])\n",
    "        \n",
    "\n",
    "x_train_count = []\n",
    "x_test_count = []\n",
    "for txt in x_train_data:\n",
    "    counts = Counter(txt)\n",
    "    x_train_count.append([counts[char] for char in characters])\n",
    "    \n",
    "for txt in x_test_data:\n",
    "    counts = Counter(txt)\n",
    "    x_test_count.append([counts[char] for char in characters])\n",
    "\n",
    "\n",
    "language_map = {'e': 0, 'j': 1, 's': 2}\n",
    "y_train_data = [language_map[label] for label in y_train_data]\n",
    "y_test_data = [language_map[label] for label in y_test_data]\n",
    "\n",
    "\n",
    "prior = []\n",
    "for c in range(n_lang_class):\n",
    "    p = (np.sum([1 for label in y_train_data if label == c]) + alpha) / (len(y_train_data) + n_lang_class * alpha)\n",
    "    prior.append(p)\n",
    "\n",
    "print(f\"The prior for English : {prior[0]:.2f}\")\n",
    "print(f\"The prior for Japanese : {prior[1]:.2f}\")\n",
    "print(f\"The prior for Spanish : {prior[2]:.2f}\")"
   ]
  },
  {
   "cell_type": "code",
   "execution_count": 60,
   "id": "15272c3b-e945-48c7-8683-868204031435",
   "metadata": {
    "tags": []
   },
   "outputs": [
    {
     "name": "stdout",
     "output_type": "stream",
     "text": [
      "The class conditional probability for English: \n",
      " [0.06016851 0.01113497 0.02151    0.02197258 0.10536924 0.01893276\n",
      " 0.01747894 0.04721626 0.05541054 0.00142078 0.00373369 0.02897737\n",
      " 0.02051875 0.05792169 0.0644639  0.01675202 0.0005617  0.05382455\n",
      " 0.06618206 0.08012556 0.02666446 0.00928465 0.01549645 0.00115645\n",
      " 0.01384437 0.00062779 0.17924996]\n"
     ]
    }
   ],
   "source": [
    "# Q3.2\n",
    "    \n",
    "c_counts = [x_train_count[i] for i in range(len(x_train_count)) if y_train_data[i] == 0]\n",
    "c_total_counts = np.sum(c_counts, axis=0)\n",
    "total = np.sum(c_total_counts) + len(characters) * alpha\n",
    "cond_prob = (c_total_counts + alpha) / total\n",
    "\n",
    "print(\"The class conditional probability for English: \\n\", cond_prob)"
   ]
  },
  {
   "cell_type": "code",
   "execution_count": 62,
   "id": "3e494921-2f86-4f71-acf8-fd0d91bd349e",
   "metadata": {
    "tags": []
   },
   "outputs": [
    {
     "name": "stdout",
     "output_type": "stream",
     "text": [
      "The class conditional probability for Japanese: \n",
      " [1.31765610e-01 1.08669066e-02 5.48586603e-03 1.72263182e-02\n",
      " 6.02047591e-02 3.87854223e-03 1.40116706e-02 3.17621161e-02\n",
      " 9.70334393e-02 2.34110207e-03 5.74094133e-02 1.43261470e-03\n",
      " 3.97987351e-02 5.67105769e-02 9.11632132e-02 8.73545547e-04\n",
      " 1.04825466e-04 4.28037318e-02 4.21747790e-02 5.69901115e-02\n",
      " 7.06174220e-02 2.44592753e-04 1.97421294e-02 3.49418219e-05\n",
      " 1.41514379e-02 7.72214263e-03 1.23449457e-01]\n",
      "The class conditional probability for Spanish: \n",
      " [1.04560451e-01 8.23286362e-03 3.75258241e-02 3.97459221e-02\n",
      " 1.13810860e-01 8.60287996e-03 7.18448398e-03 4.53270019e-03\n",
      " 4.98597021e-02 6.62945947e-03 2.77512257e-04 5.29431717e-02\n",
      " 2.58086399e-02 5.41765595e-02 7.24923684e-02 2.42669051e-02\n",
      " 7.67783910e-03 5.92951189e-02 6.57704049e-02 3.56140730e-02\n",
      " 3.37023219e-02 5.88942678e-03 9.25040856e-05 2.49761031e-03\n",
      " 7.86284728e-03 2.68261848e-03 1.68264932e-01]\n"
     ]
    }
   ],
   "source": [
    "# Q3.3\n",
    "\n",
    "c_counts = [x_train_count[i] for i in range(len(x_train_count)) if y_train_data[i] == 1]\n",
    "c_total_counts = np.sum(c_counts, axis=0)\n",
    "total = np.sum(c_total_counts) + len(characters) * alpha\n",
    "cond_prob = (c_total_counts + alpha) / total\n",
    "print(\"The class conditional probability for Japanese: \\n\", cond_prob)\n",
    "\n",
    "c_counts = [x_train_count[i] for i in range(len(x_train_count)) if y_train_data[i] == 2]\n",
    "c_total_counts = np.sum(c_counts, axis=0)\n",
    "total = np.sum(c_total_counts) + len(characters) * alpha\n",
    "cond_prob = (c_total_counts + alpha) / total\n",
    "print(\"The class conditional probability for Spanish: \\n\", cond_prob)"
   ]
  },
  {
   "cell_type": "code",
   "execution_count": 64,
   "id": "10dba92d-6aaa-4964-8660-0835259aea2a",
   "metadata": {
    "tags": []
   },
   "outputs": [
    {
     "name": "stdout",
     "output_type": "stream",
     "text": [
      "e10.txt bag-of-words count vector: \n",
      " [164, 32, 53, 57, 311, 55, 51, 140, 140, 3, 6, 85, 64, 139, 182, 53, 3, 141, 186, 225, 65, 31, 47, 4, 38, 2, 498]\n"
     ]
    }
   ],
   "source": [
    "# Q3.4\n",
    "\n",
    "with open(os.path.join('languageID', 'e10.txt'), 'r') as f:\n",
    "    txt_e10 = f.read().lower()\n",
    "    \n",
    "counts = Counter(txt_e10)\n",
    "c_e10_count = [counts[char] for char in characters]\n",
    "\n",
    "print('e10.txt bag-of-words count vector: \\n', c_e10_count)"
   ]
  },
  {
   "cell_type": "code",
   "execution_count": 85,
   "id": "9bb8707b-bd6b-4767-9eef-61b9c00a33cb",
   "metadata": {
    "tags": []
   },
   "outputs": [
    {
     "name": "stdout",
     "output_type": "stream",
     "text": [
      "log(p(x | y = e)): -7841.865447060635\n",
      "log(p(x | y = j)): -8771.433079075032\n",
      "log(p(x | y = s)): -8467.282044010557\n",
      "p(x | y = e): 1.0\n",
      "p(x | y = j): 0.0\n",
      "p(x | y = s): 2.4267389118368303e-272\n"
     ]
    }
   ],
   "source": [
    "# Q3.5\n",
    "\n",
    "conditional_prob = np.zeros((n_lang_class, len(characters)))\n",
    "for c in range(n_lang_class):\n",
    "    c_counts = [x_train_count[i] for i in range(len(x_train_count)) if y_train_data[i] == c]\n",
    "    c_total_counts = np.sum(c_counts, axis=0)\n",
    "    total = np.sum(c_total_counts) + len(characters) * alpha\n",
    "    conditional_prob[c,:] = (c_total_counts + alpha) / total\n",
    "    \n",
    "\n",
    "\n",
    "log_probs = np.zeros(3)\n",
    "for c in range(n_lang_class):\n",
    "    log_probs[c] = np.sum([np.log(conditional_prob[c, j]) * c_e10_count[j] for j in range(len(characters))])\n",
    "\n",
    "print('log(p(x | y = e)):', log_probs[0])\n",
    "print('log(p(x | y = j)):', log_probs[1])\n",
    "print('log(p(x | y = s)):', log_probs[2])\n",
    "\n",
    "log_probs_ = log_probs - np.max(log_probs)\n",
    "probs = np.exp(log_probs_)/np.sum(np.exp(log_probs_))\n",
    "print('p(x | y = e):', probs[0])\n",
    "print('p(x | y = j):', probs[1])\n",
    "print('p(x | y = s):', probs[2])"
   ]
  },
  {
   "cell_type": "code",
   "execution_count": 86,
   "id": "9a60be2f-8ccd-4ba0-a8d7-1cc70514cb34",
   "metadata": {
    "tags": []
   },
   "outputs": [
    {
     "name": "stdout",
     "output_type": "stream",
     "text": [
      "log(p(y = e | x)): -7841.532113727302\n",
      "log(p(y = j | x)): -8771.099745741698\n",
      "log(p(y = s | x)): -8466.948710677223\n",
      "p(y = e | x): 1.0\n",
      "p(y = j | x): 0.0\n",
      "p(y = s | x): 2.4267389118390376e-272\n"
     ]
    }
   ],
   "source": [
    "# Q3.6\n",
    "\n",
    "prediction = log_probs\n",
    "log_posterior = prior + prediction\n",
    "    \n",
    "print('log(p(y = e | x)):', log_posterior[0])\n",
    "print('log(p(y = j | x)):', log_posterior[1])\n",
    "print('log(p(y = s | x)):', log_posterior[2])\n",
    "\n",
    "log_posterior -= np.max(log_posterior)\n",
    "posterior = np.exp(log_posterior)/np.sum(np.exp(log_posterior))\n",
    "print('p(y = e | x):', posterior[0])\n",
    "print('p(y = j | x):', posterior[1])\n",
    "print('p(y = s | x):', posterior[2])"
   ]
  },
  {
   "cell_type": "code",
   "execution_count": 76,
   "id": "46b98952-725f-4d3b-95f7-90ab5b682f3c",
   "metadata": {
    "tags": []
   },
   "outputs": [
    {
     "data": {
      "text/plain": [
       "0.0"
      ]
     },
     "execution_count": 76,
     "metadata": {},
     "output_type": "execute_result"
    }
   ],
   "source": [
    "# Q3.7\n",
    "\n",
    "y_pred = []\n",
    "for doc in X_test_count:\n",
    "    log_probs = np.log(prior_probs)\n",
    "    for c in range(num_classes):\n",
    "        log_probs[c] += np.sum([np.log(cond_probs[c, j]) * doc[j] for j in range(len(vocabulary))])\n",
    "    y_pred.append(np.argmax(log_probs))\n",
    "\n",
    "print('the predicted results: ', y_pred)\n",
    "print('the true results: ', y_test)"
   ]
  },
  {
   "cell_type": "code",
   "execution_count": 55,
   "id": "b811968c-bb7f-4dc7-9cc5-b04230195ff9",
   "metadata": {
    "tags": []
   },
   "outputs": [
    {
     "name": "stdout",
     "output_type": "stream",
     "text": [
      "iteration 0, accuracy: 0.7495, loss: 1.3269\n",
      "iteration 1, accuracy: 0.8332, loss: 0.8463\n",
      "iteration 2, accuracy: 0.8485, loss: 0.7669\n",
      "iteration 3, accuracy: 0.8589, loss: 0.7410\n",
      "iteration 4, accuracy: 0.8690, loss: 0.6874\n",
      "iteration 5, accuracy: 0.8836, loss: 0.6052\n"
     ]
    },
    {
     "name": "stderr",
     "output_type": "stream",
     "text": [
      "/tmp/ipykernel_13748/130474483.py:35: RuntimeWarning: overflow encountered in exp\n",
      "  out = 1/(1 + np.exp(-z))\n"
     ]
    },
    {
     "name": "stdout",
     "output_type": "stream",
     "text": [
      "iteration 6, accuracy: 0.8888, loss: 0.5529\n",
      "iteration 7, accuracy: 0.8950, loss: 0.5265\n",
      "iteration 8, accuracy: 0.9054, loss: 0.4363\n",
      "iteration 9, accuracy: 0.9113, loss: 0.3903\n",
      "error rate = 0.0791\n"
     ]
    },
    {
     "data": {
      "image/png": "[encoded data removed]",
      "text/plain": [
       "<Figure size 640x480 with 1 Axes>"
      ]
     },
     "metadata": {},
     "output_type": "display_data"
    }
   ],
   "source": [
    "#Q 4.2\n",
    "\n",
    "from torchvision import datasets, transforms\n",
    "import torch\n",
    "\n",
    "my_transform = transforms.Compose([transforms.ToTensor(), transforms.Normalize((0.1307,), (0.3081,))])\n",
    "train_dataset = datasets.MNIST('mnist_data/', train=True, download=True, transform=my_transform)\n",
    "test_dataset = datasets.MNIST('mnist_data/', train=False, download=True, transform=my_transform)\n",
    "\n",
    "data_loader = torch.utils.data.DataLoader(train_dataset, shuffle=True)\n",
    "x_train_data = []\n",
    "y_train_data = []\n",
    "for x, y in data_loader:\n",
    "    x_arr = np.matrix.flatten(np.array(x))\n",
    "    x_train_data.append(x_arr)\n",
    "    label = np.zeros(10)\n",
    "    label[np.array(y)[0]] = 1\n",
    "    y_train_data.append(label)\n",
    "x_train_data = np.array(x_train_data)\n",
    "y_train_data = np.array(y_train_data)\n",
    "    \n",
    "data_loader = torch.utils.data.DataLoader(test_dataset, shuffle=False)\n",
    "x_test_data = []\n",
    "y_test_data = []\n",
    "for x, y in data_loader:\n",
    "    x_arr = np.matrix.flatten(np.array(x))\n",
    "    x_test_data.append(x_arr)\n",
    "    label = np.zeros(10)\n",
    "    label[np.array(y)[0]] = 1\n",
    "    y_test_data.append(label)\n",
    "x_test_data = np.array(x_test_data)\n",
    "y_test_data = np.array(y_test_data)\n",
    "\n",
    "def sigmoid(z):\n",
    "    out = 1/(1 + np.exp(-z))\n",
    "    return out\n",
    "\n",
    "def softmax(z):\n",
    "    z = z - np.max(z)\n",
    "    exp_z = np.exp(z)\n",
    "    out = exp_z / np.sum(exp_z)\n",
    "    return out\n",
    "\n",
    "def cross_entropy(y1, y2):\n",
    "    out = -np.sum(y1 * np.log(y2))\n",
    "    return out\n",
    "\n",
    "def forward_pass(x, w1, w2, w3):\n",
    "    h1 = np.dot(w1, x)\n",
    "    s1 = sigmoid(h1)\n",
    "    h2 = np.dot(w2, s1)\n",
    "    s2 = sigmoid(h2)\n",
    "    z = np.dot(w3, s2)\n",
    "    y_hat = softmax(z)\n",
    "    return h1, s1, h2, s2, z, y_hat\n",
    "\n",
    "def backward_pass_(x, y, w1, w2, w3, h1, s1, h2, s2, z, y_hat, learn_rate):\n",
    "    d4 = y_hat - y\n",
    "    d3 = np.dot(w3.T, d4) * s2 * (1 - s2)\n",
    "    d2 = np.dot(w2.T, d3) * s1 * (1 - s1)\n",
    "    g_w3 = np.outer(d4, s2)\n",
    "    g_w2 = np.outer(d3, s1)\n",
    "    g_w1 = np.outer(d2, x)\n",
    "    w3 -= learn_rate * g_w3\n",
    "    w2 -= learn_rate * g_w2\n",
    "    w1 -= learn_rate * g_w1\n",
    "    return w1, w2, w3\n",
    "\n",
    "def backward_pass(x, y, w1, w2, w3, h1, s1, h2, s2, z, y_hat, learn_rate):\n",
    "    d4 = y_hat - y\n",
    "    d3 = np.dot(w3.T, d4) * s2 * (1 - s2)\n",
    "    d2 = np.dot(w2.T, d3) * s1 * (1 - s1)\n",
    "    g_w3 = np.outer(d4, s2)\n",
    "    g_w2 = np.outer(d3, s1)\n",
    "    g_w1 = np.outer(d2, x)\n",
    "    # w3 -= learn_rate * g_w3\n",
    "    # w2 -= learn_rate * g_w2\n",
    "    # w1 -= learn_rate * g_w1\n",
    "    return g_w1, g_w2, g_w3\n",
    "\n",
    "\n",
    "def train_nn(x_train_data, y_train_data, n_iter, learn_rate, d1, d2, k, batch_size, w_init):\n",
    "    n_train, d0 = x_train_data.shape\n",
    "\n",
    "    # w1 = np.random.randn(d1, d)\n",
    "    # w2 = np.random.randn(d2, d1)\n",
    "    # w3 = np.random.randn(k, d2)\n",
    "    \n",
    "    w1 = w_init[0]\n",
    "    w2 = w_init[1]\n",
    "    w3 = w_init[2]\n",
    "    \n",
    "    \n",
    "    accuracy_iter = []\n",
    "    loss_iter = []\n",
    "    \n",
    "    for n in range(n_iter):\n",
    "        accuracy = 0\n",
    "        loss = 0\n",
    "        for i in range(0, n_train, batch_size):\n",
    "            x_batch = x_train_data[i:i+batch_size]\n",
    "            y_batch = y_train_data[i:i+batch_size]\n",
    "            actual_batch_size = x_batch.shape[0]\n",
    "            \n",
    "            w1_ = w1\n",
    "            w2_ = w2\n",
    "            w3_ = w3\n",
    "            for j in range(actual_batch_size):\n",
    "                x = x_batch[j]\n",
    "                y = y_batch[j]\n",
    "                h1, s1, h2, s2, z, y_hat = forward_pass(x, w1_, w2_, w3_)\n",
    "                if (np.argmax(y_hat) == np.argmax(y)):\n",
    "                    accuracy += 1\n",
    "                loss += cross_entropy(y, y_hat)\n",
    "                g_w1, g_w2, g_w3 = backward_pass(x, y, w1_, w2_, w3_, h1, s1, h2, s2, z, y_hat, learn_rate)\n",
    "                w1 -= learn_rate * g_w1\n",
    "                w2 -= learn_rate * g_w2\n",
    "                w3 -= learn_rate * g_w3\n",
    "        accuracy /= n_train\n",
    "        accuracy_iter.append(accuracy)\n",
    "        loss /= n_train\n",
    "        loss_iter.append(loss)\n",
    "        print(f\"iteration {n}, accuracy: {accuracy:.4f}, loss: {loss:.4f}\")\n",
    "    return w1, w2, w3, accuracy_iter, loss_iter\n",
    "                                   \n",
    "\n",
    "def test_nn(x_test_data, y_test_data, w1, w2, w3):\n",
    "    n_test = x_test_data.shape[0]\n",
    "    accuracy = 0\n",
    "    loss = 0\n",
    "    for i in range(n_test):\n",
    "        x = x_test_data[i]\n",
    "        y = y_test_data[i]\n",
    "        _,_,_,_,_, y_hat = forward_pass(x, w1, w2, w3)\n",
    "        if (np.argmax(y_hat) == np.argmax(y)):\n",
    "            accuracy += 1\n",
    "        loss += cross_entropy(y, y_hat)\n",
    "    accuracy /= n_test\n",
    "    loss /= n_test\n",
    "    error_rate = 1 - accuracy\n",
    "    print(f\"error rate = {error_rate:.4f}\")\n",
    "\n",
    "d0 = x_train_data.shape[1]\n",
    "d1 = 300\n",
    "d2 = 200\n",
    "k = 10\n",
    "batch_size = 64\n",
    "n_iter = 10\n",
    "learn_rate = 0.1\n",
    "\n",
    "w1 = np.random.randn(d1, d0)\n",
    "w2 = np.random.randn(d2, d1)\n",
    "w3 = np.random.randn(k, d2)\n",
    "w_init = (w1, w2, w3)\n",
    "\n",
    "w1, w2, w3, accuracies, losses = train_nn(x_train_data, y_train_data, n_iter, learn_rate, d1, d2, k, batch_size, w_init)\n",
    "\n",
    "x = np.arange(n_iter)\n",
    "plt.figure()\n",
    "plt.plot(x, accuracies)\n",
    "plt.plot(x, losses)        \n",
    "    \n",
    "test_nn(x_test_data, y_test_data, w1, w2, w3)    "
   ]
  },
  {
   "cell_type": "code",
   "execution_count": 56,
   "id": "ccbe0234-8004-4e58-868a-a8bfec3f1e0d",
   "metadata": {
    "tags": []
   },
   "outputs": [
    {
     "data": {
      "text/plain": [
       "[<matplotlib.lines.Line2D at 0x7ffb1edee110>]"
      ]
     },
     "execution_count": 56,
     "metadata": {},
     "output_type": "execute_result"
    },
    {
     "data": {
      "image/png": "[encoded data removed]",
      "text/plain": [
       "<Figure size 640x480 with 1 Axes>"
      ]
     },
     "metadata": {},
     "output_type": "display_data"
    }
   ],
   "source": [
    "plt.plot(x, losses)"
   ]
  },
  {
   "cell_type": "code",
   "execution_count": 44,
   "id": "94ec2d26-677c-44aa-a726-0c669a511bb5",
   "metadata": {
    "tags": []
   },
   "outputs": [
    {
     "data": {
      "text/plain": [
       "(20, 30)"
      ]
     },
     "execution_count": 44,
     "metadata": {},
     "output_type": "execute_result"
    }
   ],
   "source": [
    "# Q4.3"
   ]
  },
  {
   "cell_type": "code",
   "execution_count": null,
   "id": "6a8da1cb-c91c-4022-85ce-4a6c31f360ca",
   "metadata": {},
   "outputs": [],
   "source": [
    "# Q4.4\n"
   ]
  }
 ],
 "metadata": {
  "kernelspec": {
   "display_name": "Python 3 (ipykernel)",
   "language": "python",
   "name": "python3"
  },
  "language_info": {
   "codemirror_mode": {
    "name": "ipython",
    "version": 3
   },
   "file_extension": ".py",
   "mimetype": "text/x-python",
   "name": "python",
   "nbconvert_exporter": "python",
   "pygments_lexer": "ipython3",
   "version": "3.11.4"
  }
 },
 "nbformat": 4,
 "nbformat_minor": 5
}
