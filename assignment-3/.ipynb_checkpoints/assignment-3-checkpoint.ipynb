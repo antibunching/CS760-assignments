{
 "cells": [
  {
   "cell_type": "code",
   "execution_count": 1,
   "id": "7ffd583b-4c75-4c1b-a9de-d70c67dae86d",
   "metadata": {
    "tags": []
   },
   "outputs": [],
   "source": [
    "import numpy as np\n",
    "import matplotlib.pyplot as plt"
   ]
  },
  {
   "cell_type": "code",
   "execution_count": 12,
   "id": "56147763-f1e5-4e65-a905-7350ac1e40b6",
   "metadata": {
    "tags": []
   },
   "outputs": [
    {
     "ename": "TypeError",
     "evalue": "empty() missing required argument 'shape' (pos 0)",
     "output_type": "error",
     "traceback": [
      "\u001b[0;31m---------------------------------------------------------------------------\u001b[0m",
      "\u001b[0;31mTypeError\u001b[0m                                 Traceback (most recent call last)",
      "Cell \u001b[0;32mIn[12], line 8\u001b[0m\n\u001b[1;32m      5\u001b[0m num_neg \u001b[38;5;241m=\u001b[39m np\u001b[38;5;241m.\u001b[39msum(correct_class \u001b[38;5;241m==\u001b[39m \u001b[38;5;241m0\u001b[39m)\n\u001b[1;32m      6\u001b[0m num_pos \u001b[38;5;241m=\u001b[39m np\u001b[38;5;241m.\u001b[39msum(correct_class \u001b[38;5;241m==\u001b[39m \u001b[38;5;241m1\u001b[39m)\n\u001b[0;32m----> 8\u001b[0m FPR \u001b[38;5;241m=\u001b[39m np\u001b[38;5;241m.\u001b[39mempty()\n\u001b[1;32m     10\u001b[0m \u001b[38;5;28;01mfor\u001b[39;00m cp, cc \u001b[38;5;129;01min\u001b[39;00m \u001b[38;5;28mzip\u001b[39m(confidence_positive, correct_class):\n\u001b[1;32m     12\u001b[0m     \u001b[38;5;28mprint\u001b[39m(cp, cc)\n",
      "\u001b[0;31mTypeError\u001b[0m: empty() missing required argument 'shape' (pos 0)"
     ]
    }
   ],
   "source": [
    "# Q1.5\n",
    "\n",
    "confidence_positive = [0.95, 0.85, 0.8, 0.7, 0.55, 0.45, 0.4, 0.3, 0.2, 0.1]\n",
    "correct_class = np.array([1, 1, 0, 1, 1, 0, 1, 1, 0, 0])\n",
    "num_neg = np.sum(correct_class == 0)\n",
    "num_pos = np.sum(correct_class == 1)\n",
    "\n",
    "FPR = []\n",
    "TPR = []\n",
    "\n",
    "TP = 0\n",
    "FP = 0\n",
    "last_TP = 0\n",
    "for i in range(len(correct_class)):\n",
    "    if (i > 1) and ( correct_class(i) != c(i-1) ) and ( y(i) == neg ) and ( TP > last_TP \n",
    "    print(cp, cc)"
   ]
  },
  {
   "cell_type": "code",
   "execution_count": 10,
   "id": "f0671d4b-033e-4c92-a5ff-030705440cd1",
   "metadata": {
    "tags": []
   },
   "outputs": [
    {
     "data": {
      "text/plain": [
       "6"
      ]
     },
     "execution_count": 10,
     "metadata": {},
     "output_type": "execute_result"
    }
   ],
   "source": [
    "num_pos"
   ]
  },
  {
   "cell_type": "code",
   "execution_count": null,
   "id": "aac01723-c398-4241-a4a4-9fda7decfb02",
   "metadata": {},
   "outputs": [],
   "source": []
  }
 ],
 "metadata": {
  "kernelspec": {
   "display_name": "Python 3 (ipykernel)",
   "language": "python",
   "name": "python3"
  },
  "language_info": {
   "codemirror_mode": {
    "name": "ipython",
    "version": 3
   },
   "file_extension": ".py",
   "mimetype": "text/x-python",
   "name": "python",
   "nbconvert_exporter": "python",
   "pygments_lexer": "ipython3",
   "version": "3.11.4"
  }
 },
 "nbformat": 4,
 "nbformat_minor": 5
}
